{
  "nbformat": 4,
  "nbformat_minor": 0,
  "metadata": {
    "colab": {
      "name": "Sentinel2_NDVI_batch_download.ipynb",
      "provenance": [],
      "collapsed_sections": [],
      "authorship_tag": "ABX9TyOtvUb0P4pGG5I32CeaGeUy",
      "include_colab_link": true
    },
    "kernelspec": {
      "name": "python3",
      "display_name": "Python 3"
    }
  },
  "cells": [
    {
      "cell_type": "markdown",
      "metadata": {
        "id": "view-in-github",
        "colab_type": "text"
      },
      "source": [
        "<a href=\"https://colab.research.google.com/github/sapta1989/Google_Earth_engine/blob/master/Sentinel2_NDVI_batch_download.ipynb\" target=\"_parent\"><img src=\"https://colab.research.google.com/assets/colab-badge.svg\" alt=\"Open In Colab\"/></a>"
      ]
    },
    {
      "cell_type": "code",
      "metadata": {
        "id": "ZSRJnWNXItXz",
        "colab_type": "code",
        "colab": {
          "base_uri": "https://localhost:8080/",
          "height": 188
        },
        "outputId": "dbc172fa-e137-4d68-88db-9b3d6451d36b"
      },
      "source": [
        "# Installs geemap package\n",
        "import subprocess\n",
        "\n",
        "try:\n",
        "    import geemap\n",
        "except ImportError:\n",
        "    print('geemap package not installed. Installing ...')\n",
        "    subprocess.check_call([\"python\", '-m', 'pip', 'install', 'geemap'])\n",
        "\n",
        "# Checks whether this notebook is running on Google Colab\n",
        "try:\n",
        "    import google.colab\n",
        "    import geemap.eefolium as geemap\n",
        "except:\n",
        "    import geemap\n",
        "\n",
        "# Authenticates and initializes Earth Engine\n",
        "ee.Authenticate()\n",
        "import ee\n",
        "ee.Initialize()"
      ],
      "execution_count": 4,
      "outputs": [
        {
          "output_type": "stream",
          "text": [
            "geemap package not installed. Installing ...\n",
            "To authorize access needed by Earth Engine, open the following URL in a web browser and follow the instructions. If the web browser does not start automatically, please manually browse the URL below.\n",
            "\n",
            "    https://accounts.google.com/o/oauth2/auth?client_id=517222506229-vsmmajv00ul0bs7p89v5m89qs8eb9359.apps.googleusercontent.com&scope=https%3A%2F%2Fwww.googleapis.com%2Fauth%2Fearthengine+https%3A%2F%2Fwww.googleapis.com%2Fauth%2Fdevstorage.full_control&redirect_uri=urn%3Aietf%3Awg%3Aoauth%3A2.0%3Aoob&response_type=code&code_challenge=wBIk0sHPnTt8qKSInstnUsI5HT71qluk-lp1I6BX-kA&code_challenge_method=S256\n",
            "\n",
            "The authorization workflow will generate a code, which you should paste in the box below. \n",
            "Enter verification code: 4/3wGzAIEqvJpLo4FRbQDlKS0q8055hF9VlIbIo9CV82-kMVLNgmvhw5E\n",
            "\n",
            "Successfully saved authorization token.\n"
          ],
          "name": "stdout"
        }
      ]
    },
    {
      "cell_type": "code",
      "metadata": {
        "id": "h_R0QnujKJXh",
        "colab_type": "code",
        "colab": {}
      },
      "source": [
        "tiles = [\"44QLG\", \"44QLE\", \"44QLD\", \"44QKE\", \"44PKC\", \"44QKG\", \"44QKD\", \"44QMF\", \"44QKF\", \"44QME\", \"44QMD\"]\n",
        "\n",
        "##print(sentinel2_tile_bound)\n",
        "startDate = '2019-09-01'\n",
        "endDate = '2020-05-31'\n",
        "## function for cloud masking\n",
        "def maskCloudAndShadows(image):\n",
        "  cloudProb = image.select('MSK_CLDPRB')\n",
        "  snowProb = image.select('MSK_SNWPRB')\n",
        "  cloud = cloudProb.lt(5)\n",
        "  snow = snowProb.lt(5)\n",
        "  scl = image.select('SCL')\n",
        "  shadow = scl.eq(3) ## 3 = cloud shadow\n",
        "  cirrus = scl.eq(10) ## 10 = cirrus\n",
        "  ## Cloud probability less than 5% or cloud shadow classification\n",
        "  mask = (cloud.And(snow)).And(cirrus.neq(1)).And(shadow.neq(1))\n",
        "  return image.updateMask(mask)\n",
        "for tile in tiles:\n",
        "  sentinel2_tile_bound = ee.FeatureCollection('users/saptarshi/Telangana_Sentinel2_boundary').filter(ee.Filter.eq('Name', tile))\n",
        "  ## Define an example collection.\n",
        "  collection = ee.ImageCollection('COPERNICUS/S2_SR').filterDate(startDate, endDate).map(maskCloudAndShadows).filter(ee.Filter.eq('MGRS_TILE', tile))\n",
        "  #collection = ee.ImageCollection('COPERNICUS/S2_SR').filterDate(startDate, endDate).filter(ee.Filter.lt('CLOUD_COVERAGE_ASSESSMENT', 50)).map(maskCloudAndShadows).filter(ee.Filter.eq('MGRS_TILE', tile))\n",
        "\n",
        "  ##NDVIcollection = collection.map(calculateNDVI)\n",
        "  count = int(collection.size().getInfo())\n",
        "  ##print(\"Total number of images: {}\".format(count))\n",
        "  img_lst = collection.toList(count)\n",
        "  ##print(img_lst)\n",
        "  for i in range(0, count):\n",
        "      image = ee.Image(collection.toList(count).get(i))\n",
        "      region = image.geometry() #sentinel2_tile_bound.geometry() # roi\n",
        "      dateString = image.get('system:index').getInfo()\n",
        "      ndvi = image.normalizedDifference(['B8', 'B4'])\n",
        "      ndvi2 = ndvi.multiply(10000).toInt16()\n",
        "\n",
        "      name = \"Seninel2_NDVI_T\" + tile + \"_\" + dateString[:-34] + \"-\" + dateString[-34:-32] + \"-\" + dateString[-32:-30] # set the output image filename\n",
        "      #print(name)\n",
        "      # Set configration parameters for output image\n",
        "      task_config = {\n",
        "      ##'folder': 'Sentinel2-NDVI_data', # output Google Drive folder\n",
        "      'region': region,     # roi \n",
        "      'scale': 10,       # image resolution\n",
        "      'crs': 'EPSG:4326',\n",
        "      'crs': 'EPSG:4326',\n",
        "      'maxPixels': 1.0E13,\n",
        "      'fileFormat': 'GeoTIFF'\n",
        "      }\n",
        "      task = ee.batch.Export.image(ndvi2.clip(region), name, task_config)\n",
        "      task.start()\n",
        "      print (name + \" is exported\")\n",
        "  print(\"Process over for tile no: \" + tile)"
      ],
      "execution_count": null,
      "outputs": []
    }
  ]
}